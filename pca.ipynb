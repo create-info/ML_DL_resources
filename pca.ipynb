{
  "nbformat": 4,
  "nbformat_minor": 0,
  "metadata": {
    "colab": {
      "name": "pca.ipynb",
      "provenance": [],
      "collapsed_sections": []
    },
    "kernelspec": {
      "name": "python3",
      "display_name": "Python 3"
    }
  },
  "cells": [
    {
      "cell_type": "code",
      "metadata": {
        "id": "kdWtF12AqLFA",
        "colab_type": "code",
        "colab": {
          "base_uri": "https://localhost:8080/",
          "height": 306
        },
        "outputId": "163a92be-57c3-4d9e-9b8d-ac5660c48cea"
      },
      "source": [
        "# 主成分分析\n",
        "# https://archive.ics.uci.edu/ml/machine-learning-databases/iris/\n",
        "\n",
        "import pandas as pd\n",
        "\n",
        "df = pd.io.parsers.read_csv(\n",
        "    filepath_or_buffer = 'https://archive.ics.uci.edu/ml/machine-learning-databases/iris/iris.data',\n",
        "    header = None,\n",
        "    sep = ',',\n",
        ")\n",
        "df.columns = [l for i,l in sorted(feature_dict.items())] + ['class_label']\n",
        "# dropna(how = 'all') # 传入这个参数后将只丢弃全为缺失值的那些行 \n",
        "df.dropna(how = 'all', inplace=True)\n",
        "\n",
        "df.tail()"
      ],
      "execution_count": 26,
      "outputs": [
        {
          "output_type": "execute_result",
          "data": {
            "text/html": [
              "<div>\n",
              "<style scoped>\n",
              "    .dataframe tbody tr th:only-of-type {\n",
              "        vertical-align: middle;\n",
              "    }\n",
              "\n",
              "    .dataframe tbody tr th {\n",
              "        vertical-align: top;\n",
              "    }\n",
              "\n",
              "    .dataframe thead th {\n",
              "        text-align: right;\n",
              "    }\n",
              "</style>\n",
              "<table border=\"1\" class=\"dataframe\">\n",
              "  <thead>\n",
              "    <tr style=\"text-align: right;\">\n",
              "      <th></th>\n",
              "      <th>sepal length [cm]</th>\n",
              "      <th>sepal width [cm]</th>\n",
              "      <th>petal length [cm]</th>\n",
              "      <th>petal width [cm]</th>\n",
              "      <th>class_label</th>\n",
              "    </tr>\n",
              "  </thead>\n",
              "  <tbody>\n",
              "    <tr>\n",
              "      <th>145</th>\n",
              "      <td>6.7</td>\n",
              "      <td>3.0</td>\n",
              "      <td>5.2</td>\n",
              "      <td>2.3</td>\n",
              "      <td>Iris-virginica</td>\n",
              "    </tr>\n",
              "    <tr>\n",
              "      <th>146</th>\n",
              "      <td>6.3</td>\n",
              "      <td>2.5</td>\n",
              "      <td>5.0</td>\n",
              "      <td>1.9</td>\n",
              "      <td>Iris-virginica</td>\n",
              "    </tr>\n",
              "    <tr>\n",
              "      <th>147</th>\n",
              "      <td>6.5</td>\n",
              "      <td>3.0</td>\n",
              "      <td>5.2</td>\n",
              "      <td>2.0</td>\n",
              "      <td>Iris-virginica</td>\n",
              "    </tr>\n",
              "    <tr>\n",
              "      <th>148</th>\n",
              "      <td>6.2</td>\n",
              "      <td>3.4</td>\n",
              "      <td>5.4</td>\n",
              "      <td>2.3</td>\n",
              "      <td>Iris-virginica</td>\n",
              "    </tr>\n",
              "    <tr>\n",
              "      <th>149</th>\n",
              "      <td>5.9</td>\n",
              "      <td>3.0</td>\n",
              "      <td>5.1</td>\n",
              "      <td>1.8</td>\n",
              "      <td>Iris-virginica</td>\n",
              "    </tr>\n",
              "  </tbody>\n",
              "</table>\n",
              "</div>"
            ],
            "text/plain": [
              "     sepal length [cm]  sepal width [cm]  ...  petal width [cm]     class_label\n",
              "145                6.7               3.0  ...               2.3  Iris-virginica\n",
              "146                6.3               2.5  ...               1.9  Iris-virginica\n",
              "147                6.5               3.0  ...               2.0  Iris-virginica\n",
              "148                6.2               3.4  ...               2.3  Iris-virginica\n",
              "149                5.9               3.0  ...               1.8  Iris-virginica\n",
              "\n",
              "[5 rows x 5 columns]"
            ]
          },
          "metadata": {
            "tags": []
          },
          "execution_count": 26
        }
      ]
    },
    {
      "cell_type": "code",
      "metadata": {
        "id": "ELJ4sNufq7Qz",
        "colab_type": "code",
        "colab": {}
      },
      "source": [
        "X = df.ix[:,0:4].values\n",
        "y = df.ix[:,4].values\n",
        "# print(y)  一个List"
      ],
      "execution_count": 0,
      "outputs": []
    },
    {
      "cell_type": "code",
      "metadata": {
        "id": "IoOBCF1ArWLr",
        "colab_type": "code",
        "colab": {
          "base_uri": "https://localhost:8080/",
          "height": 441
        },
        "outputId": "1e5e2a61-d00f-4582-9ae1-d905216c1f9d"
      },
      "source": [
        "from matplotlib import pyplot as plt\n",
        "import math\n",
        "\n",
        "label_dict = {1: 'Iris-setosa', \n",
        "        2: 'Iris-versicolor',\n",
        "        3: 'Iris-virginica'}\n",
        "# 指定特征名\n",
        "feature_dict = {i:label for i, label in zip(range(4), \n",
        "            ('sepal length [cm]', \n",
        "             'sepal width [cm]',\n",
        "             'petal length [cm]',\n",
        "             'petal width [cm]',))}\n",
        "# print(feature_dict) \n",
        "\n",
        "plt.figure(figsize=(8, 6))\n",
        "for cnt in range(4):   # 四个特征\n",
        "  plt.subplot(2, 2, cnt+1)\n",
        "  for lab in ['Iris-setosa', 'Iris-versicolor', 'Iris-virginica']:  # 三个类别\n",
        "    # 绘制直方图\n",
        "    plt.hist(X[y==lab,cnt],\n",
        "          label=lab,\n",
        "          bins=10,\n",
        "          alpha=0.6, \n",
        "             )        \n",
        "  plt.xlabel(feature_dict[cnt])\n",
        "  plt.legend(loc='upper right', fancybox=True, fontsize=8)\n",
        "\n",
        "# 不同类别的花在同一个特征上的差异\n",
        "plt.tight_layout()\n",
        "plt.show()\n"
      ],
      "execution_count": 27,
      "outputs": [
        {
          "output_type": "display_data",
          "data": {
            "image/png": "[encoded data removed]",
            "text/plain": [
              "<Figure size 576x432 with 4 Axes>"
            ]
          },
          "metadata": {
            "tags": []
          }
        }
      ]
    },
    {
      "cell_type": "code",
      "metadata": {
        "id": "yj7gfAhHy_za",
        "colab_type": "code",
        "colab": {
          "base_uri": "https://localhost:8080/",
          "height": 52
        },
        "outputId": "9fa15f23-2ebd-4a70-b756-ffdc75fad315"
      },
      "source": [
        "# 对数据进行标准化\n",
        "from sklearn.preprocessing import StandardScaler\n",
        "X_std = StandardScaler().fit_transform(X)\n",
        "# print(X_std)\n",
        "print(X_std.mean(axis=0))\n",
        "print(X_std.std(axis=0))"
      ],
      "execution_count": 31,
      "outputs": [
        {
          "output_type": "stream",
          "text": [
            "[-4.73695157e-16 -6.63173220e-16  3.31586610e-16 -2.84217094e-16]\n",
            "[1. 1. 1. 1.]\n"
          ],
          "name": "stdout"
        }
      ]
    },
    {
      "cell_type": "code",
      "metadata": {
        "id": "GhFwHB0uzkq3",
        "colab_type": "code",
        "colab": {
          "base_uri": "https://localhost:8080/",
          "height": 106
        },
        "outputId": "5263c365-43a0-4caa-bcb2-c1fd0249b075"
      },
      "source": [
        "import numpy as np\n",
        "\n",
        "# 计算协方差矩阵\n",
        "mean_vec = np.mean(X_std, axis=0)\n",
        "cov_mat = (X_std - mean_vec).T.dot((X_std - mean_vec)) / (X_std.shape[0]-1)\n",
        "print('Covariance matrix \\n%s' %cov_mat)\n"
      ],
      "execution_count": 33,
      "outputs": [
        {
          "output_type": "stream",
          "text": [
            "Covariance matrix \n",
            "[[ 1.00671141 -0.11010327  0.87760486  0.82344326]\n",
            " [-0.11010327  1.00671141 -0.42333835 -0.358937  ]\n",
            " [ 0.87760486 -0.42333835  1.00671141  0.96921855]\n",
            " [ 0.82344326 -0.358937    0.96921855  1.00671141]]\n"
          ],
          "name": "stdout"
        }
      ]
    },
    {
      "cell_type": "code",
      "metadata": {
        "id": "tkFIjHeB2Ve5",
        "colab_type": "code",
        "colab": {
          "base_uri": "https://localhost:8080/",
          "height": 106
        },
        "outputId": "c846a006-50a6-4672-b64b-a6aac192f23b"
      },
      "source": [
        "print('Numpy covariance matrix:\\n%s' %np.cov(X_std.T))"
      ],
      "execution_count": 34,
      "outputs": [
        {
          "output_type": "stream",
          "text": [
            "Numpy covariance matrix:\n",
            "[[ 1.00671141 -0.11010327  0.87760486  0.82344326]\n",
            " [-0.11010327  1.00671141 -0.42333835 -0.358937  ]\n",
            " [ 0.87760486 -0.42333835  1.00671141  0.96921855]\n",
            " [ 0.82344326 -0.358937    0.96921855  1.00671141]]\n"
          ],
          "name": "stdout"
        }
      ]
    },
    {
      "cell_type": "code",
      "metadata": {
        "id": "eE7IKCwS2mfX",
        "colab_type": "code",
        "colab": {
          "base_uri": "https://localhost:8080/",
          "height": 159
        },
        "outputId": "6fd12419-f7cd-433c-ec4b-595df33d2d8e"
      },
      "source": [
        "cov_mat = np.cov(X_std.T)\n",
        "# 使用np的线性代数工具包计算特征值和特征向量\n",
        "eig_vals, eig_vecs = np.linalg.eig(cov_mat)\n",
        "print(\"Eigen_values: \\n%s\" %eig_vals)\n",
        "print(\"\\nEigen_vecs: \\n%s\" %eig_vecs)"
      ],
      "execution_count": 37,
      "outputs": [
        {
          "output_type": "stream",
          "text": [
            "Eigen_values: \n",
            "[2.93035378 0.92740362 0.14834223 0.02074601]\n",
            "\n",
            "Eigen_vecs: \n",
            "[[ 0.52237162 -0.37231836 -0.72101681  0.26199559]\n",
            " [-0.26335492 -0.92555649  0.24203288 -0.12413481]\n",
            " [ 0.58125401 -0.02109478  0.14089226 -0.80115427]\n",
            " [ 0.56561105 -0.06541577  0.6338014   0.52354627]]\n"
          ],
          "name": "stdout"
        }
      ]
    },
    {
      "cell_type": "code",
      "metadata": {
        "id": "48XqyDiK3UJ0",
        "colab_type": "code",
        "colab": {
          "base_uri": "https://localhost:8080/",
          "height": 161
        },
        "outputId": "718d020f-4250-4639-b905-ffb60c0225e0"
      },
      "source": [
        "# 将特征值和特征向量进行组队\n",
        "# make a list of (eig_vals, eig_vecs) tuples\n",
        "eig_pairs = [(np.abs(eig_vals[i]), eig_vecs[i]) for i in range(len(eig_vals))]\n",
        "print(eig_pairs)\n",
        "\n",
        "print(\"---------------------\")\n",
        "# 按照特征值进行高到底排序\n",
        "eig_pairs.sort(key=lambda x:x[0], reverse=True)\n",
        "\n",
        "print('Eigen_values in descending order:')\n",
        "for i in eig_pairs:\n",
        "  print(i[0])"
      ],
      "execution_count": 39,
      "outputs": [
        {
          "output_type": "stream",
          "text": [
            "[(2.930353775589317, array([ 0.52237162, -0.37231836, -0.72101681,  0.26199559])), (0.9274036215173419, array([-0.26335492, -0.92555649,  0.24203288, -0.12413481])), (0.14834222648163944, array([ 0.58125401, -0.02109478,  0.14089226, -0.80115427])), (0.02074601399559593, array([ 0.56561105, -0.06541577,  0.6338014 ,  0.52354627]))]\n",
            "---------------------\n",
            "Eigen_values in descending order:\n",
            "2.930353775589317\n",
            "0.9274036215173419\n",
            "0.14834222648163944\n",
            "0.02074601399559593\n"
          ],
          "name": "stdout"
        }
      ]
    },
    {
      "cell_type": "code",
      "metadata": {
        "id": "yDIUI56A4i8j",
        "colab_type": "code",
        "colab": {
          "base_uri": "https://localhost:8080/",
          "height": 52
        },
        "outputId": "3422b9a4-9b4c-4b19-d8a6-6f20273d3309"
      },
      "source": [
        "# 计算特征重要度占比\n",
        "tot = sum(eig_vals)\n",
        "var_exp = [(i/ tot)*100 for i in sorted(eig_vals, reverse=True)]\n",
        "print(var_exp)  # 各个特征占比\n",
        "\n",
        "cum_var_exp = np.cumsum(var_exp)\n",
        "print(cum_var_exp)  # 前几个特征占比\n"
      ],
      "execution_count": 40,
      "outputs": [
        {
          "output_type": "stream",
          "text": [
            "[72.77045209380135, 23.03052326768065, 3.683831957627379, 0.5151926808906321]\n",
            "[ 72.77045209  95.80097536  99.48480732 100.        ]\n"
          ],
          "name": "stdout"
        }
      ]
    },
    {
      "cell_type": "code",
      "metadata": {
        "id": "rX7gza2M6fvJ",
        "colab_type": "code",
        "colab": {
          "base_uri": "https://localhost:8080/",
          "height": 70
        },
        "outputId": "037fd095-5b9b-4630-c9b5-042f9d7fd088"
      },
      "source": [
        "a = np.array([1,2,3,4])\n",
        "print(a)\n",
        "print('--------test---------')\n",
        "print(np.cumsum(a))"
      ],
      "execution_count": 42,
      "outputs": [
        {
          "output_type": "stream",
          "text": [
            "[1 2 3 4]\n",
            "--------test---------\n",
            "[ 1  3  6 10]\n"
          ],
          "name": "stdout"
        }
      ]
    },
    {
      "cell_type": "code",
      "metadata": {
        "id": "CQ3G5Ysk6ub_",
        "colab_type": "code",
        "colab": {
          "base_uri": "https://localhost:8080/",
          "height": 297
        },
        "outputId": "3dfbc907-6e4e-4b33-efc8-09ee089ed1dc"
      },
      "source": [
        "plt.figure(figsize=(6,4))\n",
        "# 绘制柱形图 \n",
        "plt.bar(range(4), var_exp, alpha=0.8, align='center',\n",
        "        label='individual explained variance')\n",
        "# 绘制步阶图 \n",
        "plt.step(range(4), cum_var_exp, where='mid', label='cumulative explained variance')\n",
        "plt.ylabel('Explained variance ratio') # 累计方差比\n",
        "plt.xlabel('Principal components') # 主成分\n",
        "plt.legend(loc='best')\n",
        "plt.tight_layout()\n",
        "plt.show()\n"
      ],
      "execution_count": 45,
      "outputs": [
        {
          "output_type": "display_data",
          "data": {
            "image/png": "[encoded data removed]",
            "text/plain": [
              "<Figure size 432x288 with 1 Axes>"
            ]
          },
          "metadata": {
            "tags": []
          }
        }
      ]
    },
    {
      "cell_type": "code",
      "metadata": {
        "id": "dhNsqmIO87ES",
        "colab_type": "code",
        "colab": {
          "base_uri": "https://localhost:8080/",
          "height": 88
        },
        "outputId": "b993a296-3a14-4d16-9985-9f3ea8f2304d"
      },
      "source": [
        "# 取前两个主成分对应的特征向量\n",
        "# np.hstack()函数的作用将两个维度相同的numpy数组横向拼接\n",
        "matrix_w = np.hstack((eig_pairs[0][1].reshape(4,1),\n",
        "            eig_pairs[1][1].reshape(4,1)))\n",
        "print(matrix_w)"
      ],
      "execution_count": 46,
      "outputs": [
        {
          "output_type": "stream",
          "text": [
            "[[ 0.52237162 -0.26335492]\n",
            " [-0.37231836 -0.92555649]\n",
            " [-0.72101681  0.24203288]\n",
            " [ 0.26199559 -0.12413481]]\n"
          ],
          "name": "stdout"
        }
      ]
    },
    {
      "cell_type": "code",
      "metadata": {
        "id": "MV05GtAV-QNH",
        "colab_type": "code",
        "colab": {}
      },
      "source": [
        "# 将原始矩阵和特征向量相乘\n",
        "Y = X_std.dot(matrix_w)  # （150*4）*（4*2）=(150*2)维\n",
        "print(Y)\n"
      ],
      "execution_count": 0,
      "outputs": []
    },
    {
      "cell_type": "code",
      "metadata": {
        "id": "NltmYExV-yyR",
        "colab_type": "code",
        "colab": {
          "base_uri": "https://localhost:8080/",
          "height": 297
        },
        "outputId": "ea4a81a3-7e56-4d78-d624-548f61b8bce9"
      },
      "source": [
        "# 画出降维前，前两个特征的图形\n",
        "plt.figure(figsize=(6,4))\n",
        "for lab, col in zip(('Iris-setosa', 'Iris-versicolor', 'Iris-virginica'),\n",
        "             ('blue','green','red')):\n",
        "  # print(lab, col) col对应颜色\n",
        "# Iris-setosa blue\n",
        "# Iris-versicolor green\n",
        "# Iris-virginica red\n",
        "  plt.scatter(X[y==lab, 0], X[y==lab, 1], label=lab, c=col)\n",
        "\n",
        "plt.xlabel('sepal_len')\n",
        "plt.ylabel('sepal_wid')\n",
        "plt.legend(loc='best')\n",
        "plt.tight_layout()\n",
        "plt.show()"
      ],
      "execution_count": 51,
      "outputs": [
        {
          "output_type": "display_data",
          "data": {
            "image/png": "[encoded data removed]",
            "text/plain": [
              "<Figure size 432x288 with 1 Axes>"
            ]
          },
          "metadata": {
            "tags": []
          }
        }
      ]
    },
    {
      "cell_type": "code",
      "metadata": {
        "id": "PtofZ0t9BUOY",
        "colab_type": "code",
        "colab": {
          "base_uri": "https://localhost:8080/",
          "height": 297
        },
        "outputId": "f312bd68-a7f7-473b-f4a9-e6a7442ad705"
      },
      "source": [
        "# 画出降维后，选取的两个主成分的图形\n",
        "plt.figure(figsize=(6,4))\n",
        "for lab, col in zip(('Iris-setosa', 'Iris-versicolor', 'Iris-virginica'),\n",
        "             ('blue','green','red')):\n",
        "  plt.scatter(Y[y==lab, 0], Y[y==lab, 1], label=lab, c=col)\n",
        "\n",
        "plt.xlabel('Principal Component 1')\n",
        "plt.ylabel('Principal Component 2')\n",
        "plt.legend(loc='best')\n",
        "plt.tight_layout()\n",
        "plt.show()"
      ],
      "execution_count": 54,
      "outputs": [
        {
          "output_type": "display_data",
          "data": {
            "image/png": "[encoded data removed]",
            "text/plain": [
              "<Figure size 432x288 with 1 Axes>"
            ]
          },
          "metadata": {
            "tags": []
          }
        }
      ]
    }
  ]
}