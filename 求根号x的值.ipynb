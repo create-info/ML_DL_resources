# 求根号1350的近似值
def sqrt_x(X):
#     1、猜测根号x的取值
  G = 100
  while(abs(G**2-X) > 0.00001):
    if G**2 == X:
       print("根号X的取值为:",G)
    elif G**2 < X:
#     2、猜小了，根号X的取值就在（G，(G+X/G)/2）之间
      G = (G + (G + X/G)/2)/2
    else:
#     3、猜大了,根号X的取值就在（(G+X/G)/2,G）之间
      G = ((G+X/G)/2 + G)/2
  return G
  
    
res = sqrt_x(1350)
print(res)
