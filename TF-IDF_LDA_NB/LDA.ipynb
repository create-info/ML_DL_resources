{
  "nbformat": 4,
  "nbformat_minor": 0,
  "metadata": {
    "colab": {
      "name": "LDA.ipynb",
      "provenance": []
    },
    "kernelspec": {
      "name": "python3",
      "display_name": "Python 3"
    }
  },
  "cells": [
    {
      "cell_type": "code",
      "metadata": {
        "id": "4X2eKRNNtuZC",
        "colab_type": "code",
        "colab": {
          "base_uri": "https://localhost:8080/",
          "height": 306
        },
        "outputId": "89c318de-c3f4-401e-880d-b51dd0de4317"
      },
      "source": [
        "# 线性判别分析\n",
        "# https://archive.ics.uci.edu/ml/machine-learning-databases/iris/\n",
        "# 指定特征名\n",
        "feature_dict = {i:label for i, label in zip(range(4), \n",
        "            ('sepal length in cm', \n",
        "             'sepal width in cm',\n",
        "             'petal length in cm',\n",
        "             'petal width in cm',))}\n",
        "# print(feature_dict)\n",
        "import pandas as pd\n",
        "\n",
        "df = pd.io.parsers.read_csv(\n",
        "    filepath_or_buffer = 'https://archive.ics.uci.edu/ml/machine-learning-databases/iris/iris.data',\n",
        "    header = None,\n",
        "    sep = ',',\n",
        ")\n",
        "df.columns = [l for i,l in sorted(feature_dict.items())] + ['class_label']\n",
        "df.dropna(how = 'all', inplace=True)\n",
        "\n",
        "df.tail()"
      ],
      "execution_count": 35,
      "outputs": [
        {
          "output_type": "execute_result",
          "data": {
            "text/html": [
              "<div>\n",
              "<style scoped>\n",
              "    .dataframe tbody tr th:only-of-type {\n",
              "        vertical-align: middle;\n",
              "    }\n",
              "\n",
              "    .dataframe tbody tr th {\n",
              "        vertical-align: top;\n",
              "    }\n",
              "\n",
              "    .dataframe thead th {\n",
              "        text-align: right;\n",
              "    }\n",
              "</style>\n",
              "<table border=\"1\" class=\"dataframe\">\n",
              "  <thead>\n",
              "    <tr style=\"text-align: right;\">\n",
              "      <th></th>\n",
              "      <th>sepal length in cm</th>\n",
              "      <th>sepal width in cm</th>\n",
              "      <th>petal length in cm</th>\n",
              "      <th>petal width in cm</th>\n",
              "      <th>class_label</th>\n",
              "    </tr>\n",
              "  </thead>\n",
              "  <tbody>\n",
              "    <tr>\n",
              "      <th>145</th>\n",
              "      <td>6.7</td>\n",
              "      <td>3.0</td>\n",
              "      <td>5.2</td>\n",
              "      <td>2.3</td>\n",
              "      <td>Iris-virginica</td>\n",
              "    </tr>\n",
              "    <tr>\n",
              "      <th>146</th>\n",
              "      <td>6.3</td>\n",
              "      <td>2.5</td>\n",
              "      <td>5.0</td>\n",
              "      <td>1.9</td>\n",
              "      <td>Iris-virginica</td>\n",
              "    </tr>\n",
              "    <tr>\n",
              "      <th>147</th>\n",
              "      <td>6.5</td>\n",
              "      <td>3.0</td>\n",
              "      <td>5.2</td>\n",
              "      <td>2.0</td>\n",
              "      <td>Iris-virginica</td>\n",
              "    </tr>\n",
              "    <tr>\n",
              "      <th>148</th>\n",
              "      <td>6.2</td>\n",
              "      <td>3.4</td>\n",
              "      <td>5.4</td>\n",
              "      <td>2.3</td>\n",
              "      <td>Iris-virginica</td>\n",
              "    </tr>\n",
              "    <tr>\n",
              "      <th>149</th>\n",
              "      <td>5.9</td>\n",
              "      <td>3.0</td>\n",
              "      <td>5.1</td>\n",
              "      <td>1.8</td>\n",
              "      <td>Iris-virginica</td>\n",
              "    </tr>\n",
              "  </tbody>\n",
              "</table>\n",
              "</div>"
            ],
            "text/plain": [
              "     sepal length in cm  sepal width in cm  ...  petal width in cm     class_label\n",
              "145                 6.7                3.0  ...                2.3  Iris-virginica\n",
              "146                 6.3                2.5  ...                1.9  Iris-virginica\n",
              "147                 6.5                3.0  ...                2.0  Iris-virginica\n",
              "148                 6.2                3.4  ...                2.3  Iris-virginica\n",
              "149                 5.9                3.0  ...                1.8  Iris-virginica\n",
              "\n",
              "[5 rows x 5 columns]"
            ]
          },
          "metadata": {
            "tags": []
          },
          "execution_count": 35
        }
      ]
    },
    {
      "cell_type": "code",
      "metadata": {
        "id": "93z_bSvmH21G",
        "colab_type": "code",
        "colab": {}
      },
      "source": [
        "from sklearn.preprocessing import LabelEncoder\n",
        "\n",
        "X = df[['sepal length in cm', \n",
        "             'sepal width in cm',\n",
        "             'petal length in cm',\n",
        "             'petal width in cm']].values\n",
        "y = df['class_label'].values\n",
        "# print(X)\n",
        "\n",
        "# 类别向量化\n",
        "enc = LabelEncoder()\n",
        "label_encoder = enc.fit(y)\n",
        "y = label_encoder.transform(y) + 1\n",
        "# print(y)\n",
        "label_dict = {1: 'Setosa', 2: 'Versicolor', 3:'Virginica'}"
      ],
      "execution_count": 0,
      "outputs": []
    },
    {
      "cell_type": "code",
      "metadata": {
        "id": "fYKw_LvwLsd9",
        "colab_type": "code",
        "colab": {
          "base_uri": "https://localhost:8080/",
          "height": 123
        },
        "outputId": "cc2dd95a-bdc9-4e26-af5f-4b2ae5f7d9d1"
      },
      "source": [
        "import numpy as np\n",
        "np.set_printoptions(precision=4)\n",
        "\n",
        "# 计算每个类别中每个特征列的均值\n",
        "mean_vectors = []\n",
        "for c1 in range(1,4):\n",
        "  # print(c1) 1 2 3\n",
        "  mean_vectors.append(np.mean(X[y==c1], axis=0))\n",
        "  print('Mean vector class %s: %s\\n' %(c1, mean_vectors[c1-1]))\n",
        "\n",
        "# print(mean_vectors)"
      ],
      "execution_count": 37,
      "outputs": [
        {
          "output_type": "stream",
          "text": [
            "Mean vector class 1: [5.006 3.418 1.464 0.244]\n",
            "\n",
            "Mean vector class 2: [5.936 2.77  4.26  1.326]\n",
            "\n",
            "Mean vector class 3: [6.588 2.974 5.552 2.026]\n",
            "\n"
          ],
          "name": "stdout"
        }
      ]
    },
    {
      "cell_type": "code",
      "metadata": {
        "id": "Le-fqNGHPKCa",
        "colab_type": "code",
        "colab": {
          "base_uri": "https://localhost:8080/",
          "height": 106
        },
        "outputId": "107149c7-0e01-4ad1-dd64-50ef164ceb19"
      },
      "source": [
        "# 计算两个4*4矩阵：类内散布矩阵和类间散布矩阵\n",
        "S_W = np.zeros((4,4))\n",
        "# print(S_W)\n",
        "for c1, mv in zip(range(1,4), mean_vectors):\n",
        "  class_sc_mat = np.zeros((4,4))\n",
        "  for row in X[y==c1]:\n",
        "    # print(row)\n",
        "    row, mv = row.reshape(4,1), mv.reshape(4,1)\n",
        "    class_sc_mat += (row-mv).dot((row-mv).T)\n",
        "  S_W += class_sc_mat\n",
        "print('with-class Scatter Matrix:\\n', S_W)"
      ],
      "execution_count": 39,
      "outputs": [
        {
          "output_type": "stream",
          "text": [
            "with-class Scatter Matrix:\n",
            " [[38.9562 13.683  24.614   5.6556]\n",
            " [13.683  17.035   8.12    4.9132]\n",
            " [24.614   8.12   27.22    6.2536]\n",
            " [ 5.6556  4.9132  6.2536  6.1756]]\n"
          ],
          "name": "stdout"
        }
      ]
    },
    {
      "cell_type": "code",
      "metadata": {
        "id": "xzsqkkcyV0Di",
        "colab_type": "code",
        "colab": {
          "base_uri": "https://localhost:8080/",
          "height": 123
        },
        "outputId": "c2f13568-0dba-4fa3-f1c9-1b1931bf5835"
      },
      "source": [
        "# 计算类间散布矩阵\n",
        "# 全局均值\n",
        "overall_mean = np.mean(X, axis=0)\n",
        "print(overall_mean)\n",
        "\n",
        "S_B = np.zeros((4,4))\n",
        "for i,mean_vec in enumerate(mean_vectors):\n",
        "  n = X[y==i+1,:].shape[0]\n",
        "  # print(n)  50,每个类别中样本都是50个\n",
        "  mean_vec = mean_vec.reshape(4,1)\n",
        "  S_B += n * (mean_vec - overall_mean).dot((mean_vec - overall_mean).T)\n",
        "\n",
        "print('between-class Scatter Mattrix:\\n', S_B)\n"
      ],
      "execution_count": 45,
      "outputs": [
        {
          "output_type": "stream",
          "text": [
            "[5.8433 3.054  3.7587 1.1987]\n",
            "between-class Scatter Mattrix:\n",
            " [[ 5307.7201   994.1255  2739.0432 -1291.3312]\n",
            " [  994.1255  1801.79    1360.4517  2123.9509]\n",
            " [ 2739.0432  1360.4517  3455.9735  2003.9111]\n",
            " [-1291.3312  2123.9509  2003.9111  5057.7351]]\n"
          ],
          "name": "stdout"
        }
      ]
    },
    {
      "cell_type": "code",
      "metadata": {
        "id": "inWOFR8wd4-y",
        "colab_type": "code",
        "colab": {
          "base_uri": "https://localhost:8080/",
          "height": 513
        },
        "outputId": "b875fd6f-188d-49f8-b0a5-b9266e8ce954"
      },
      "source": [
        "# 求矩阵的特征值,np.linalg.inv(S_W)表示求逆\n",
        "# np.linalg.eig：计算特征值，特征向量\n",
        "eig_vals, eig_vecs = np.linalg.eig(np.linalg.inv(S_W).dot(S_B))\n",
        "\n",
        "for i in range(len(eig_vals)):\n",
        "  eigvec_sc = eig_vecs[:,i].reshape(4,1)\n",
        "  # 输出特征向量\n",
        "  print('\\nEigenvector {}:\\n{}'.format(i+1, eigvec_sc.real))\n",
        "  # 输出特征值\n",
        "  print('Eigenvalue {}: {:.2e}'.format(i+1, eig_vals[i].real))"
      ],
      "execution_count": 48,
      "outputs": [
        {
          "output_type": "stream",
          "text": [
            "\n",
            "Eigenvector 1:\n",
            "[[ 0.1911]\n",
            " [ 0.0297]\n",
            " [-0.0056]\n",
            " [-0.9811]]\n",
            "Eigenvalue 1: 1.06e+03\n",
            "\n",
            "Eigenvector 2:\n",
            "[[ 0.4707]\n",
            " [-0.5257]\n",
            " [-0.4724]\n",
            " [ 0.5281]]\n",
            "Eigenvalue 2: 4.05e-02\n",
            "\n",
            "Eigenvector 3:\n",
            "[[-0.6106]\n",
            " [ 0.0539]\n",
            " [-0.7866]\n",
            " [-0.0743]]\n",
            "Eigenvalue 3: 1.22e+02\n",
            "\n",
            "Eigenvector 4:\n",
            "[[ 0.3418]\n",
            " [ 0.6427]\n",
            " [-0.677 ]\n",
            " [ 0.1085]]\n",
            "Eigenvalue 4: 7.57e+01\n"
          ],
          "name": "stdout"
        }
      ]
    },
    {
      "cell_type": "code",
      "metadata": {
        "id": "4pkJuCvmmtMf",
        "colab_type": "code",
        "colab": {
          "base_uri": "https://localhost:8080/",
          "height": 123
        },
        "outputId": "50513ced-61b0-40d7-d39d-27ac4ed31452"
      },
      "source": [
        "# 特征向量：表示映射方向\n",
        "# 特征值：特征向量的重要程度\n",
        "\n",
        "# 对特征值进行降序排序\n",
        "eig_pairs = [(np.abs(eig_vals[i]), eig_vecs[:,i]) for i in range(len(eig_vals))]\n",
        "\n",
        "eig_pairs = sorted(eig_pairs, key=lambda k: k[0], reverse=True)\n",
        "\n",
        "print('Eigenvalues in decreasing order:\\n')\n",
        "for i in eig_pairs:\n",
        "  print(i[0])"
      ],
      "execution_count": 49,
      "outputs": [
        {
          "output_type": "stream",
          "text": [
            "Eigenvalues in decreasing order:\n",
            "\n",
            "1059.6390686874681\n",
            "122.47897399120167\n",
            "75.71077162552268\n",
            "0.04046054601861165\n"
          ],
          "name": "stdout"
        }
      ]
    },
    {
      "cell_type": "code",
      "metadata": {
        "id": "o9ebjxRwogRh",
        "colab_type": "code",
        "colab": {
          "base_uri": "https://localhost:8080/",
          "height": 123
        },
        "outputId": "c71784b7-19ac-4ba7-8658-123aeed38357"
      },
      "source": [
        "# 输出各个特征占总体方差的百分比\n",
        "print('Variance explained:\\n')\n",
        "eigv_sum = sum(eig_vals)\n",
        "for i,j in enumerate(eig_pairs):\n",
        "  print('eigenvalue {0:}: {1:.2%}'.format(i+1,(j[0]/eigv_sum).real))"
      ],
      "execution_count": 50,
      "outputs": [
        {
          "output_type": "stream",
          "text": [
            "Variance explained:\n",
            "\n",
            "eigenvalue 1: 84.24%\n",
            "eigenvalue 2: 9.74%\n",
            "eigenvalue 3: 6.02%\n",
            "eigenvalue 4: 0.00%\n"
          ],
          "name": "stdout"
        }
      ]
    },
    {
      "cell_type": "code",
      "metadata": {
        "id": "TCoOQ8CKpkDa",
        "colab_type": "code",
        "colab": {
          "base_uri": "https://localhost:8080/",
          "height": 106
        },
        "outputId": "050c6afa-6015-42e1-a7da-1c077669e52d"
      },
      "source": [
        "# 选择前两维特征\n",
        "W = np.hstack((eig_pairs[0][1].reshape(4,1), eig_pairs[1][1].reshape(4,1)))\n",
        "print('Matrix W :\\n',W.real)"
      ],
      "execution_count": 53,
      "outputs": [
        {
          "output_type": "stream",
          "text": [
            "Matrix W :\n",
            " [[ 0.1911 -0.6106]\n",
            " [ 0.0297  0.0539]\n",
            " [-0.0056 -0.7866]\n",
            " [-0.9811 -0.0743]]\n"
          ],
          "name": "stdout"
        }
      ]
    },
    {
      "cell_type": "code",
      "metadata": {
        "id": "rRzQfqNmqzF1",
        "colab_type": "code",
        "colab": {}
      },
      "source": [
        "# 由150*4变成了150*2\n",
        "X_lda = X.dot(W)\n",
        "assert X_lda.shape == (150,2), 'The matrix is not 150*2 dimensional'"
      ],
      "execution_count": 0,
      "outputs": []
    },
    {
      "cell_type": "code",
      "metadata": {
        "id": "2W5q1o0zrWsh",
        "colab_type": "code",
        "colab": {
          "base_uri": "https://localhost:8080/",
          "height": 368
        },
        "outputId": "dcee0704-b56c-40cc-ae7b-c607339f488c"
      },
      "source": [
        "\n",
        "from matplotlib import pyplot as plt\n",
        "\n",
        "\n",
        "def plot_step_lda():\n",
        "  # 其中参数111,指的是将图像分成1行1列,此图是第一个图\n",
        "  ax = plt.subplot(111)\n",
        "  for label, marker, color in zip(\n",
        "      range(1,4), ('^', 's', 'o'),('blue','red','green')):\n",
        "    plt.scatter(x=X_lda[:,0].real[y==label],\n",
        "          y=X_lda[:,1].real[y==label],\n",
        "          marker=marker,\n",
        "          color=color,\n",
        "          alpha=0.5,\n",
        "          label=label_dict[label]\n",
        "          )\n",
        "  plt.xlabel('LD1')\n",
        "  plt.ylabel('LD2')\n",
        "  leg = plt.legend(loc='upper right', fancybox=True)\n",
        "  leg.get_frame().set_alpha(0.5)\n",
        "  plt.title('LDA Iris projection onto first 2 linear discriminants')\n",
        "\n",
        "  # hidden axis ticks \n",
        "  plt.tick_params(axis='both', which='both', bottom='off',\n",
        "          labelbottom='on', left='off', right='off', labelleft='on')\n",
        "  # remove axis spines\n",
        "  ax.spines['top'].set_visible(False)\n",
        "  ax.spines['right'].set_visible(False)\n",
        "  ax.spines['bottom'].set_visible(False)\n",
        "  ax.spines['left'].set_visible(False)\n",
        "\n",
        "  plt.grid()\n",
        "  plt.tight_layout\n",
        "  plt.show()\n",
        "\n",
        "# 画图\n",
        "plot_step_lda()\n"
      ],
      "execution_count": 72,
      "outputs": [
        {
          "output_type": "stream",
          "text": [
            "/usr/local/lib/python3.6/dist-packages/matplotlib/cbook/__init__.py:424: MatplotlibDeprecationWarning: \n",
            "Passing one of 'on', 'true', 'off', 'false' as a boolean is deprecated; use an actual boolean (True/False) instead.\n",
            "  warn_deprecated(\"2.2\", \"Passing one of 'on', 'true', 'off', 'false' as a \"\n"
          ],
          "name": "stderr"
        },
        {
          "output_type": "display_data",
          "data": {
            "image/png": "[encoded data removed]",
            "text/plain": [
              "<Figure size 432x288 with 1 Axes>"
            ]
          },
          "metadata": {
            "tags": []
          }
        }
      ]
    },
    {
      "cell_type": "code",
      "metadata": {
        "id": "zpP2PgLmykrz",
        "colab_type": "code",
        "colab": {}
      },
      "source": [
        "# 下面使用sklearn实现LDA\n",
        "from sklearn.discriminant_analysis import LinearDiscriminantAnalysis as LDA\n",
        "\n",
        "sklearn_LDA = LDA(n_components=2)\n",
        "X_lda = sklearn_LDA.fit_transform(X, y)"
      ],
      "execution_count": 0,
      "outputs": []
    },
    {
      "cell_type": "code",
      "metadata": {
        "id": "Qm7sptQdzU-y",
        "colab_type": "code",
        "colab": {
          "base_uri": "https://localhost:8080/",
          "height": 368
        },
        "outputId": "7d017de0-8a90-4cd6-f597-fb9c5e5aa89f"
      },
      "source": [
        "\n",
        "from matplotlib import pyplot as plt\n",
        "\n",
        "def plot_sklearn_lda(X, title):\n",
        "  # 其中参数111,指的是将图像分成1行1列,此图是第一个图\n",
        "  ax = plt.subplot(111)\n",
        "  for label, marker, color in zip(\n",
        "      range(1,4), ('^', 's', 'o'),('blue','red','green')):\n",
        "    plt.scatter(x=X[:,0][y==label],\n",
        "          y=X[:,1][y==label]*-1,\n",
        "          marker=marker,\n",
        "          color=color,\n",
        "          alpha=0.5,\n",
        "          label=label_dict[label]\n",
        "          )\n",
        "  plt.xlabel('LD1')\n",
        "  plt.ylabel('LD2')\n",
        "  leg = plt.legend(loc='upper right', fancybox=True)\n",
        "  leg.get_frame().set_alpha(0.5)\n",
        "  plt.title(title)\n",
        "\n",
        "  # hidden axis ticks \n",
        "  plt.tick_params(axis='both', which='both', bottom='off',\n",
        "          labelbottom='on', left='off', right='off', labelleft='on')\n",
        "  # remove axis spines\n",
        "  ax.spines['top'].set_visible(False)\n",
        "  ax.spines['right'].set_visible(False)\n",
        "  ax.spines['bottom'].set_visible(False)\n",
        "  ax.spines['left'].set_visible(False)\n",
        "\n",
        "  plt.grid()\n",
        "  plt.tight_layout\n",
        "  plt.show()\n",
        "\n",
        "# 画图\n",
        "plot_sklearn_lda(X_lda,'LDA Iris projection onto first 2 linear discriminants')\n"
      ],
      "execution_count": 79,
      "outputs": [
        {
          "output_type": "stream",
          "text": [
            "/usr/local/lib/python3.6/dist-packages/matplotlib/cbook/__init__.py:424: MatplotlibDeprecationWarning: \n",
            "Passing one of 'on', 'true', 'off', 'false' as a boolean is deprecated; use an actual boolean (True/False) instead.\n",
            "  warn_deprecated(\"2.2\", \"Passing one of 'on', 'true', 'off', 'false' as a \"\n"
          ],
          "name": "stderr"
        },
        {
          "output_type": "display_data",
          "data": {
            "image/png": "[encoded data removed]",
            "text/plain": [
              "<Figure size 432x288 with 1 Axes>"
            ]
          },
          "metadata": {
            "tags": []
          }
        }
      ]
    }
  ]
}